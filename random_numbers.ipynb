{
 "cells": [
  {
   "cell_type": "code",
   "execution_count": 2,
   "id": "a9d6d938",
   "metadata": {},
   "outputs": [],
   "source": [
    "# Import the random module.\n",
    "import random"
   ]
  },
  {
   "cell_type": "code",
   "execution_count": 4,
   "id": "f02a3ce1",
   "metadata": {},
   "outputs": [
    {
     "data": {
      "text/plain": [
       "-64"
      ]
     },
     "execution_count": 4,
     "metadata": {},
     "output_type": "execute_result"
    }
   ],
   "source": [
    "random.randint(-90, 90)"
   ]
  },
  {
   "cell_type": "code",
   "execution_count": 7,
   "id": "a43b786c",
   "metadata": {},
   "outputs": [
    {
     "data": {
      "text/plain": [
       "0.9831367610177519"
      ]
     },
     "execution_count": 7,
     "metadata": {},
     "output_type": "execute_result"
    }
   ],
   "source": [
    "random.random()"
   ]
  },
  {
   "cell_type": "code",
   "execution_count": 8,
   "id": "53daddba",
   "metadata": {},
   "outputs": [],
   "source": [
    "x = 1\n",
    "latitudes = []\n",
    "while x < 11:\n",
    "    random_lat = random.randint(-90, 89) + random.random()\n",
    "    latitudes.append(random_lat)\n",
    "    x += 1"
   ]
  },
  {
   "cell_type": "code",
   "execution_count": 10,
   "id": "6220945f",
   "metadata": {},
   "outputs": [
    {
     "data": {
      "text/plain": [
       "[-19.12891873933002,\n",
       " -53.36209095017701,\n",
       " -26.73339696309973,\n",
       " -63.75413434982532,\n",
       " -42.899290649100074,\n",
       " 58.05088851366916,\n",
       " 38.152555317561635,\n",
       " -1.762078940448926,\n",
       " 4.3984903408912555,\n",
       " -84.87927005854996]"
      ]
     },
     "execution_count": 10,
     "metadata": {},
     "output_type": "execute_result"
    }
   ],
   "source": [
    "latitudes"
   ]
  },
  {
   "cell_type": "code",
   "execution_count": 11,
   "id": "0cda70b5",
   "metadata": {},
   "outputs": [],
   "source": [
    "# Import the NumPy module.\n",
    "import numpy as np"
   ]
  },
  {
   "cell_type": "code",
   "execution_count": 13,
   "id": "674a26cc",
   "metadata": {},
   "outputs": [
    {
     "data": {
      "text/plain": [
       "array([ -9.36370235, -26.50392166, -42.19471571, -87.65416318,\n",
       "        57.69713344,  12.4692637 ,  54.36882254, -57.9321399 ,\n",
       "        79.68484077, -51.60522377,  -6.14829853, -25.15748245,\n",
       "       -54.37927018,   0.28019249, -11.63355256,  56.41477789,\n",
       "       -24.03504104,  89.09277805,  10.66984786,  -4.9040333 ,\n",
       "       -39.2704037 ,  21.28671319,   6.50714823,  42.38651984,\n",
       "       -89.40390656,  17.31044605, -63.33481403,  48.69636657,\n",
       "        31.77735643, -44.79342903,  51.56291901,  44.57711331,\n",
       "        83.15039692,  34.91730546,  -3.41207532,  70.1438281 ,\n",
       "       -19.04834199, -28.96553264, -24.90640244, -57.00956489,\n",
       "       -41.8301663 ,  11.16416444,  16.12633371,  71.05470722,\n",
       "         2.94492294, -36.55667755,  21.01089954,  60.98340756,\n",
       "        20.97777354,  41.31757693])"
      ]
     },
     "execution_count": 13,
     "metadata": {},
     "output_type": "execute_result"
    }
   ],
   "source": [
    "np.random.uniform(-90.000, 90.000, size=50)"
   ]
  },
  {
   "cell_type": "code",
   "execution_count": 15,
   "id": "369d4e0d",
   "metadata": {},
   "outputs": [],
   "source": [
    "# Import timeit.\n",
    "import timeit"
   ]
  },
  {
   "cell_type": "code",
   "execution_count": 16,
   "id": "be47c7bd",
   "metadata": {},
   "outputs": [
    {
     "name": "stdout",
     "output_type": "stream",
     "text": [
      "13.5 µs ± 281 ns per loop (mean ± std. dev. of 7 runs, 100000 loops each)\n"
     ]
    }
   ],
   "source": [
    "%timeit np.random.uniform(-90.000, 90.000, size=1500)"
   ]
  },
  {
   "cell_type": "code",
   "execution_count": null,
   "id": "f4f5607b",
   "metadata": {},
   "outputs": [],
   "source": [
    "def latitudes(size):\n",
    "    latitudes = []\n",
    "    for x in range(size):\n",
    "        random_lat = random.randint(-90, 90) + random.random()\n",
    "        latitudes.append(random_lat)\n",
    "    return latitudes\n",
    "# Call the function with 1500.\n",
    "%timeit latitudes(1500)"
   ]
  },
  {
   "cell_type": "code",
   "execution_count": null,
   "id": "45445bad",
   "metadata": {},
   "outputs": [],
   "source": []
  }
 ],
 "metadata": {
  "kernelspec": {
   "display_name": "PythonData",
   "language": "python",
   "name": "pythondata"
  },
  "language_info": {
   "codemirror_mode": {
    "name": "ipython",
    "version": 3
   },
   "file_extension": ".py",
   "mimetype": "text/x-python",
   "name": "python",
   "nbconvert_exporter": "python",
   "pygments_lexer": "ipython3",
   "version": "3.7.10"
  }
 },
 "nbformat": 4,
 "nbformat_minor": 5
}
